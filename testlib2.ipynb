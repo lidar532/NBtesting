{
 "cells": [
  {
   "cell_type": "code",
   "execution_count": null,
   "id": "09ed0faa-0030-445a-951a-0df522cee6f3",
   "metadata": {},
   "outputs": [],
   "source": [
    "def test_lib2_a():\n",
    "  print('test_lib2_a.')"
   ]
  },
  {
   "cell_type": "code",
   "execution_count": null,
   "id": "561682ba-5da2-4139-891a-d6c0aac8d2ff",
   "metadata": {},
   "outputs": [],
   "source": [
    "def test_lib2_b():\n",
    "  print('test_lib2_b.')"
   ]
  },
  {
   "cell_type": "code",
   "execution_count": null,
   "id": "1ea1698f-da4c-48c5-92c5-2b3ab328cc35",
   "metadata": {},
   "outputs": [
    {
     "name": "stdout",
     "output_type": "stream",
     "text": [
      "test_lib2_a.\n",
      "test_lib2_b.\n"
     ]
    }
   ],
   "source": [
    "test_lib2_a()\n",
    "test_lib2_b()"
   ]
  }
 ],
 "metadata": {
  "kernelspec": {
   "display_name": "python3",
   "language": "python",
   "name": "python3"
  }
 },
 "nbformat": 4,
 "nbformat_minor": 5
}
