{
 "cells": [
  {
   "cell_type": "code",
   "execution_count": null,
   "id": "64c73fbf-26f1-44bf-8a94-34c35c9866a8",
   "metadata": {},
   "outputs": [],
   "source": [
    "import os\n",
    "import sys"
   ]
  },
  {
   "cell_type": "code",
   "execution_count": null,
   "id": "20b0e2c3-1633-49ce-a5fa-24bb1fff1ed6",
   "metadata": {},
   "outputs": [
    {
     "name": "stdout",
     "output_type": "stream",
     "text": [
      "/home/wright/github-projects/NBtesting\n",
      "/home/wright/miniconda3/lib/python310.zip\n",
      "/home/wright/miniconda3/lib/python3.10\n",
      "/home/wright/miniconda3/lib/python3.10/lib-dynload\n",
      "\n",
      "/home/wright/miniconda3/lib/python3.10/site-packages\n"
     ]
    }
   ],
   "source": [
    "for p in sys.path:\n",
    "  print(p)"
   ]
  },
  {
   "cell_type": "code",
   "execution_count": null,
   "id": "ff7b1b6c-321c-48ab-a5a5-71770d8238ff",
   "metadata": {},
   "outputs": [],
   "source": []
  },
  {
   "cell_type": "code",
   "execution_count": null,
   "id": "eb3cd3b4-f993-43ab-b77d-37369485cb11",
   "metadata": {},
   "outputs": [
    {
     "name": "stdout",
     "output_type": "stream",
     "text": [
      "This is test_a.\n",
      "this is test_b.\n"
     ]
    }
   ],
   "source": [
    "import test.testlib"
   ]
  },
  {
   "cell_type": "code",
   "execution_count": null,
   "id": "ae7da444-d0e3-446b-ae6d-e65ea12b05de",
   "metadata": {},
   "outputs": [],
   "source": []
  },
  {
   "cell_type": "raw",
   "id": "938f4440-7263-4239-ac93-911df55655ff",
   "metadata": {},
   "source": []
  }
 ],
 "metadata": {
  "kernelspec": {
   "display_name": "python3",
   "language": "python",
   "name": "python3"
  }
 },
 "nbformat": 4,
 "nbformat_minor": 5
}
