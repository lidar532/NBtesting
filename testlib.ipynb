{
 "cells": [
  {
   "cell_type": "markdown",
   "id": "1bab19a1-bc59-4fe7-a3a2-52b3d10318b6",
   "metadata": {},
   "source": [
    "## Imports"
   ]
  },
  {
   "cell_type": "code",
   "execution_count": null,
   "id": "a371551d-6e55-4a67-ba79-04f256a053fc",
   "metadata": {},
   "outputs": [],
   "source": [
    "import  panel as pn\n",
    "pn.extension()\n",
    "import test.Folder_Selector"
   ]
  },
  {
   "cell_type": "markdown",
   "id": "1438c936-4344-439b-bd6b-2f2a886303f7",
   "metadata": {},
   "source": [
    "## Globals"
   ]
  },
  {
   "cell_type": "code",
   "execution_count": null,
   "id": "25348f45-d891-4fdc-94e8-cf2de73e52b6",
   "metadata": {},
   "outputs": [],
   "source": [
    "Debug = False"
   ]
  },
  {
   "cell_type": "code",
   "execution_count": null,
   "id": "57fa5f30-e27e-48e3-b551-b91d21d7488a",
   "metadata": {},
   "outputs": [],
   "source": [
    "if Debug:\n",
    "  print('Debugging testlib.ipynb')"
   ]
  },
  {
   "cell_type": "markdown",
   "id": "279468d2-029b-411e-83b2-0d5fa61913f6",
   "metadata": {},
   "source": [
    "## Funtions"
   ]
  },
  {
   "cell_type": "code",
   "execution_count": null,
   "id": "37d5ba3a-d6ee-4048-983b-c15fbeb00c9c",
   "metadata": {},
   "outputs": [],
   "source": [
    "\n",
    "def test_a():\n",
    "  print('This is test_a.')"
   ]
  },
  {
   "cell_type": "code",
   "execution_count": null,
   "id": "dd473af9-712b-4054-9602-5c5b1e243ff1",
   "metadata": {},
   "outputs": [],
   "source": [
    "def test_b():\n",
    "  print('this is test_b.')"
   ]
  },
  {
   "cell_type": "code",
   "execution_count": null,
   "id": "e5e0a095-0749-42a8-96f5-5f7b33f96f52",
   "metadata": {},
   "outputs": [],
   "source": [
    "def test_widget(parent=None, CallBack_func=None ):\n",
    "  \n",
    "  def local_ok_callback( value ):\n",
    "    txt_w.value = value[0]\n",
    "    if CallBack_func:\n",
    "      CallBack_func( value[0] )\n",
    "    \n",
    "  def event_h( event ):\n",
    "    txt_w.value = event.obj.name\n",
    "    c_w.value   = txt_w.value\n",
    "    if txt_w.value == 'File':\n",
    "      test.Folder_Selector.Folder_Selector( c_w, CallBack_func = local_ok_callback )\n",
    "         \n",
    "  File_b = pn.widgets.Button(name=\"File\")\n",
    "  a_b    = pn.widgets.Button(name=\"Run\")\n",
    "  b_b    = pn.widgets.Button(name=\"Stop\")\n",
    "  c_b    = pn.widgets.Button(name=\"No Op\")\n",
    "  date_w = pn.widgets.DatePicker(name='Date')\n",
    "  txt_w  = pn.widgets.StaticText(name='Debug:', value='at start txt.')\n",
    "  for i in [ File_b, a_b, b_b, c_b]:\n",
    "    i.on_click( event_h )\n",
    "  r_w = pn.Row(\"Master Branch\", File_b, a_b, b_b, c_b)\n",
    "  c_w = pn.Column( date_w, \n",
    "                   r_w, \n",
    "                   txt_w )\n",
    "  return c_w"
   ]
  },
  {
   "cell_type": "code",
   "execution_count": null,
   "id": "9d64a5a0-af3d-4925-93c4-6e556da2201b",
   "metadata": {},
   "outputs": [],
   "source": [
    "if Debug:\n",
    "  def my_cb( value ):\n",
    "    print('my_cb:', value )\n",
    "\n",
    "  r_w = pn.Row(\"A row\")\n",
    "  w  = test_widget( CallBack_func = my_cb )\n",
    "  \n",
    "  w.servable()\n",
    "  display(w)\n"
   ]
  },
  {
   "cell_type": "code",
   "execution_count": null,
   "id": "34649fb1-2184-4c3e-a8bd-14b060ba660d",
   "metadata": {},
   "outputs": [],
   "source": [
    "if Debug:\n",
    "  print(w.Selected_Folder)"
   ]
  }
 ],
 "metadata": {
  "kernelspec": {
   "display_name": "python3",
   "language": "python",
   "name": "python3"
  }
 },
 "nbformat": 4,
 "nbformat_minor": 5
}
