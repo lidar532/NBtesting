{
 "cells": [
  {
   "cell_type": "code",
   "execution_count": null,
   "id": "37d5ba3a-d6ee-4048-983b-c15fbeb00c9c",
   "metadata": {},
   "outputs": [],
   "source": [
    "def test_a():\n",
    "  print('This is test_a.')"
   ]
  },
  {
   "cell_type": "code",
   "execution_count": null,
   "id": "dd473af9-712b-4054-9602-5c5b1e243ff1",
   "metadata": {},
   "outputs": [],
   "source": [
    "def test_b():\n",
    "  print('this is test_b.')"
   ]
  },
  {
   "cell_type": "code",
   "execution_count": null,
   "id": "9d64a5a0-af3d-4925-93c4-6e556da2201b",
   "metadata": {},
   "outputs": [
    {
     "name": "stdout",
     "output_type": "stream",
     "text": [
      "This is test_a.\n",
      "this is test_b.\n"
     ]
    }
   ],
   "source": [
    "\n",
    "if True:\n",
    "  test_a()\n",
    "  test_b()\n",
    "  "
   ]
  }
 ],
 "metadata": {
  "kernelspec": {
   "display_name": "python3",
   "language": "python",
   "name": "python3"
  }
 },
 "nbformat": 4,
 "nbformat_minor": 5
}
