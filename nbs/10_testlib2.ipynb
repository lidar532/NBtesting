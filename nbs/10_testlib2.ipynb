{
 "cells": [
  {
   "cell_type": "markdown",
   "id": "3d498421-cc1f-427c-b165-33b7b0db7885",
   "metadata": {},
   "source": [
    "# testlib2\n",
    "> Just a module to test a few functions"
   ]
  },
  {
   "cell_type": "code",
   "execution_count": null,
   "id": "d357119b-8323-4326-91b9-4aed523cb667",
   "metadata": {},
   "outputs": [],
   "source": [
    "#| default_exp testlib2"
   ]
  },
  {
   "cell_type": "code",
   "execution_count": null,
   "id": "dadbe594-2e75-4a34-abdf-11e96dc99cf5",
   "metadata": {},
   "outputs": [],
   "source": [
    "#| hide\n",
    "from fastcore.test  import *\n",
    "from fastcore.utils import *\n",
    "from nbdev.showdoc  import *\n",
    "import nbdev"
   ]
  },
  {
   "cell_type": "code",
   "execution_count": null,
   "id": "4eb89ca1-6d9f-4127-9a1f-8b4c6fb16061",
   "metadata": {},
   "outputs": [],
   "source": [
    "import sys"
   ]
  },
  {
   "cell_type": "code",
   "execution_count": null,
   "id": "08950f0f-6ad5-4a98-9ae3-9897ee858f64",
   "metadata": {},
   "outputs": [
    {
     "data": {
      "text/plain": [
       "['/home/wright/github-projects/NBtesting/nbs',\n",
       " '/home/wright/miniconda3/lib/python310.zip',\n",
       " '/home/wright/miniconda3/lib/python3.10',\n",
       " '/home/wright/miniconda3/lib/python3.10/lib-dynload',\n",
       " '',\n",
       " '/home/wright/miniconda3/lib/python3.10/site-packages',\n",
       " '/home/wright/github-projects/NBtesting']"
      ]
     },
     "execution_count": null,
     "metadata": {},
     "output_type": "execute_result"
    }
   ],
   "source": [
    "sys.path"
   ]
  },
  {
   "cell_type": "code",
   "execution_count": null,
   "id": "09ed0faa-0030-445a-951a-0df522cee6f3",
   "metadata": {},
   "outputs": [],
   "source": [
    "#| export\n",
    "def test_lib2_a( \n",
    "  value='Nothing' # A simple string\n",
    ") -> str:         # the input value\n",
    "  return f'test_lib2_a( {value})'"
   ]
  },
  {
   "cell_type": "code",
   "execution_count": null,
   "id": "561682ba-5da2-4139-891a-d6c0aac8d2ff",
   "metadata": {},
   "outputs": [],
   "source": [
    "#| export\n",
    "def test_lib2_b(value = 'no value'):\n",
    "  return f'test_lib2_b( {value} )'"
   ]
  },
  {
   "cell_type": "code",
   "execution_count": null,
   "id": "1ea1698f-da4c-48c5-92c5-2b3ab328cc35",
   "metadata": {},
   "outputs": [
    {
     "name": "stdout",
     "output_type": "stream",
     "text": [
      "test_lib2_a( junk)\n",
      "test_lib2_b( some string value. )\n"
     ]
    }
   ],
   "source": [
    "print( test_lib2_a('junk') )\n",
    "print( test_lib2_b( 'some string value.') )"
   ]
  },
  {
   "cell_type": "code",
   "execution_count": null,
   "id": "5dc735bc-7882-420b-9dce-54bf011e6d3b",
   "metadata": {},
   "outputs": [],
   "source": []
  },
  {
   "cell_type": "code",
   "execution_count": null,
   "id": "632b6d44-62ad-4f3f-a4f0-9128eb050ff5",
   "metadata": {},
   "outputs": [],
   "source": []
  },
  {
   "cell_type": "code",
   "execution_count": null,
   "id": "cc71a2de-6edf-419f-8bd2-b5cfc932b222",
   "metadata": {},
   "outputs": [],
   "source": []
  }
 ],
 "metadata": {
  "kernelspec": {
   "display_name": "python3",
   "language": "python",
   "name": "python3"
  }
 },
 "nbformat": 4,
 "nbformat_minor": 5
}
